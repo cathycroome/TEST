
import pandas as pd
import seaborn as sns
import matplotlib.pyplot as plt
import numpy as np
import calendar 


def read_file(sample=True):
    df = pd.read_csv(r"C:\Users\CCDELL\Documents\GitHub\crimes-new-york-city1\Data\NYPD_Complaint_Data_Historic2.csv")
    df = df.drop(['CMPLNT_TO_DT', 'CMPLNT_TO_TM'], axis=1) 
    column_mapping = {u'CMPLNT_FR_DT': 'Date', u'CMPLNT_FR_TM': 'Time'}
    df = df.rename(column_mapping, axis=1)
    if sample:
        df = df.sample(10000)
    return df


def monthname(x):
    return calendar.month_abbr[int(x)]  #use month.name for full name 


def dayname(x):
    return calendar.day_abbr[int(x)]


def make_datetime_flags(df):
    df['Datetime'] = df['Date'] + ' ' + df['Time']
    df.head(2) #checking
    df['Datetime'] = pd.to_datetime(df['Datetime'], errors='coerce')
    # check there are no NaTs: 
    #df['Datetime'].isnull().sum()
    df = df.dropna(subset=['Datetime']) 
    df = df.set_index(['Datetime'])
    df['Month'] = df.index.month #number of the month
    df['Weekday'] = df.index.dayofweek #number of the day of the week
    df['Year'] = df.index.year
    df['Hour'] = df.index.hour #24 hour format
    df['Month'] = df.apply(lambda row: monthname(row['Month']), axis=1) 
    df['Weekday'] = df.apply(lambda row: dayname(row['Weekday']), axis=1) 
    df['Month'] = pd.Categorical(df['Month'], categories=['Jan','Feb','Mar','Apr',
      'May','Jun','Jul','Aug','Sep','Oct','Nov','Dec'], ordered=True) 
    df['Weekday'] = pd.Categorical(df['Weekday'],categories=['Mon', 'Tue',
      'Wed','Thu','Fri','Sat','Sun'], ordered=True)
    return df



df = read_file()
df = make_datetime_flags(df)
df.head()

    
"""
Notes on how to pull from data frame

df.iloc[2] #pulls 3rd row
df.iloc[2,1] #pulls 3rd row, 2nd column
df.iloc[2,34] #pulls 3rd row, 35th column - i.e. MONTH
df.loc[:,'Month'] #returns the index alongside the month - for all cases
"""

"""
3.1) Totals plots for month/week/year of crime
"""

sns.countplot(x='Year',data=df)
plt.ylabel('No of Crimes')
plt.show() #Note: this shows most in 2016, less in 2017 (less time to report?), then some in previous years
df['Year'].value_counts()
#shows about 1% of data in 2015, <1% pre 2015, so we might expect to be seeing around 1% less in 2017 because we arent able to get crimes from 2017 reported in 2018.
df.loc[df['Year'] == 1994]

"""
Crimes reported during 2016 and 2017.
Most relate to crimes occuring during 2016 and 2017, though 1% relate to crimes which occured in 2015.
0.5% relate to crimes which occured prior to 2015. 
The crime reaching the furthest back was one which occured in 1994, reported in December 2017.
The victim was a white female 45-64 years old.
The crime was at 1pm on New Years day, and occured in the Upper West Side of Manhattan by Central Park.
**Note: "Offenses occurring in open areas such as parks or beaches may be geo-coded as occurring on streets or intersections bordering the area."
So the offence could have happened in Central Park.
Cross referencing with the PDCode_PenalLaw shows that the offence reported was for harrassment - specifically, hazing.
By central park
"""


df=df[df.Year > 2015]  #Drop all crimes relating to offenses before 2016
sns.countplot(x='Year',data=df)
plt.ylabel('No of Crimes')
plt.show() #Slightly fewer crimes in 2017 - would have to take into account the difference in reporting date and use a statistical test to test whether the difference is statistically significant

sns.countplot(x='Month', data=df)
plt.ylabel('No of Crimes')
plt.show() #Slightly higher number of crimes in summer months 

sns.countplot(x='Weekday', data=df)
plt.ylabel('No of Crimes')  
plt.show() 

#Months and year
df.groupby(['Month', 'Year',])['CMPLNT_NUM'].count().unstack().plot(kind='bar')
plt.ylabel('No of Crimes')
plt.show() 
